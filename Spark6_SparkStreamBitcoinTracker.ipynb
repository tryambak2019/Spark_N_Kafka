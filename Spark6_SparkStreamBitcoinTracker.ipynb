{
 "cells": [
  {
   "cell_type": "markdown",
   "metadata": {},
   "source": [
    "Data University\n",
    "\n",
    "Kafka Assignment\n",
    "\n",
    "Author: Tryambak Kaushik"
   ]
  },
  {
   "cell_type": "markdown",
   "metadata": {},
   "source": [
    "Q: The Tracking Bitcoin Prices example covered during the slides uses Kafka Streaming for implementing the logic.\n",
    "\n",
    "For this assignment redo the example above using Spark Streaming instead of Kafka Streaming"
   ]
  },
  {
   "cell_type": "code",
   "execution_count": 1,
   "metadata": {},
   "outputs": [],
   "source": [
    "import socket\n",
    "import sys\n",
    "import requests as req\n",
    "import requests_oauthlib\n",
    "import json\n",
    "import time"
   ]
  },
  {
   "cell_type": "code",
   "execution_count": 2,
   "metadata": {},
   "outputs": [],
   "source": [
    "ticker_url=\"https://blockchain.info/ticker\"\n",
    "sleep_time=2"
   ]
  },
  {
   "cell_type": "code",
   "execution_count": 3,
   "metadata": {},
   "outputs": [
    {
     "name": "stdout",
     "output_type": "stream",
     "text": [
      "Waiting for TCP connection...\n",
      "Connected to client at  ('127.0.0.1', 45231)\n",
      "{u'sell': 9421.33, u'last': 9421.33, u'symbol': u'$', u'buy': 9421.33, u'15m': 9421.33}\n",
      "{u'sell': 9421.33, u'last': 9421.33, u'symbol': u'$', u'buy': 9421.33, u'15m': 9421.33}\n",
      "{u'sell': 9421.33, u'last': 9421.33, u'symbol': u'$', u'buy': 9421.33, u'15m': 9421.33}\n",
      "{u'sell': 9421.33, u'last': 9421.33, u'symbol': u'$', u'buy': 9421.33, u'15m': 9421.33}\n",
      "{u'sell': 9421.33, u'last': 9421.33, u'symbol': u'$', u'buy': 9421.33, u'15m': 9421.33}\n",
      "{u'sell': 9419.02, u'last': 9419.02, u'symbol': u'$', u'buy': 9419.02, u'15m': 9419.02}\n",
      "{u'sell': 9419.02, u'last': 9419.02, u'symbol': u'$', u'buy': 9419.02, u'15m': 9419.02}\n",
      "{u'sell': 9419.02, u'last': 9419.02, u'symbol': u'$', u'buy': 9419.02, u'15m': 9419.02}\n",
      "{u'sell': 9419.02, u'last': 9419.02, u'symbol': u'$', u'buy': 9419.02, u'15m': 9419.02}\n",
      "{u'sell': 9419.02, u'last': 9419.02, u'symbol': u'$', u'buy': 9419.02, u'15m': 9419.02}\n",
      "{u'sell': 9419.02, u'last': 9419.02, u'symbol': u'$', u'buy': 9419.02, u'15m': 9419.02}\n",
      "{u'sell': 9419.02, u'last': 9419.02, u'symbol': u'$', u'buy': 9419.02, u'15m': 9419.02}\n",
      "{u'sell': 9419.02, u'last': 9419.02, u'symbol': u'$', u'buy': 9419.02, u'15m': 9419.02}\n",
      "{u'sell': 9419.02, u'last': 9419.02, u'symbol': u'$', u'buy': 9419.02, u'15m': 9419.02}\n",
      "{u'sell': 9419.02, u'last': 9419.02, u'symbol': u'$', u'buy': 9419.02, u'15m': 9419.02}\n",
      "{u'sell': 9419.02, u'last': 9419.02, u'symbol': u'$', u'buy': 9419.02, u'15m': 9419.02}\n",
      "{u'sell': 9419.02, u'last': 9419.02, u'symbol': u'$', u'buy': 9419.02, u'15m': 9419.02}\n",
      "{u'sell': 9419.02, u'last': 9419.02, u'symbol': u'$', u'buy': 9419.02, u'15m': 9419.02}\n",
      "{u'sell': 9419.02, u'last': 9419.02, u'symbol': u'$', u'buy': 9419.02, u'15m': 9419.02}\n",
      "{u'sell': 9419.02, u'last': 9419.02, u'symbol': u'$', u'buy': 9419.02, u'15m': 9419.02}\n",
      "{u'sell': 9419.02, u'last': 9419.02, u'symbol': u'$', u'buy': 9419.02, u'15m': 9419.02}\n",
      "{u'sell': 9419.02, u'last': 9419.02, u'symbol': u'$', u'buy': 9419.02, u'15m': 9419.02}\n",
      "{u'sell': 9419.02, u'last': 9419.02, u'symbol': u'$', u'buy': 9419.02, u'15m': 9419.02}\n",
      "{u'sell': 9419.02, u'last': 9419.02, u'symbol': u'$', u'buy': 9419.02, u'15m': 9419.02}\n",
      "{u'sell': 9419.02, u'last': 9419.02, u'symbol': u'$', u'buy': 9419.02, u'15m': 9419.02}\n",
      "{u'sell': 9419.02, u'last': 9419.02, u'symbol': u'$', u'buy': 9419.02, u'15m': 9419.02}\n",
      "{u'sell': 9419.02, u'last': 9419.02, u'symbol': u'$', u'buy': 9419.02, u'15m': 9419.02}\n",
      "{u'sell': 9419.02, u'last': 9419.02, u'symbol': u'$', u'buy': 9419.02, u'15m': 9419.02}\n",
      "{u'sell': 9419.02, u'last': 9419.02, u'symbol': u'$', u'buy': 9419.02, u'15m': 9419.02}\n",
      "{u'sell': 9419.02, u'last': 9419.02, u'symbol': u'$', u'buy': 9419.02, u'15m': 9419.02}\n",
      "{u'sell': 9418.29, u'last': 9418.29, u'symbol': u'$', u'buy': 9418.29, u'15m': 9418.29}\n",
      "{u'sell': 9418.29, u'last': 9418.29, u'symbol': u'$', u'buy': 9418.29, u'15m': 9418.29}\n",
      "{u'sell': 9418.29, u'last': 9418.29, u'symbol': u'$', u'buy': 9418.29, u'15m': 9418.29}\n",
      "{u'sell': 9418.29, u'last': 9418.29, u'symbol': u'$', u'buy': 9418.29, u'15m': 9418.29}\n",
      "{u'sell': 9418.29, u'last': 9418.29, u'symbol': u'$', u'buy': 9418.29, u'15m': 9418.29}\n",
      "{u'sell': 9418.29, u'last': 9418.29, u'symbol': u'$', u'buy': 9418.29, u'15m': 9418.29}\n",
      "{u'sell': 9418.29, u'last': 9418.29, u'symbol': u'$', u'buy': 9418.29, u'15m': 9418.29}\n",
      "{u'sell': 9418.29, u'last': 9418.29, u'symbol': u'$', u'buy': 9418.29, u'15m': 9418.29}\n",
      "{u'sell': 9418.29, u'last': 9418.29, u'symbol': u'$', u'buy': 9418.29, u'15m': 9418.29}\n",
      "{u'sell': 9418.29, u'last': 9418.29, u'symbol': u'$', u'buy': 9418.29, u'15m': 9418.29}\n",
      "{u'sell': 9418.29, u'last': 9418.29, u'symbol': u'$', u'buy': 9418.29, u'15m': 9418.29}\n",
      "{u'sell': 9418.29, u'last': 9418.29, u'symbol': u'$', u'buy': 9418.29, u'15m': 9418.29}\n",
      "{u'sell': 9418.29, u'last': 9418.29, u'symbol': u'$', u'buy': 9418.29, u'15m': 9418.29}\n",
      "{u'sell': 9418.29, u'last': 9418.29, u'symbol': u'$', u'buy': 9418.29, u'15m': 9418.29}\n",
      "{u'sell': 9418.29, u'last': 9418.29, u'symbol': u'$', u'buy': 9418.29, u'15m': 9418.29}\n",
      "{u'sell': 9418.29, u'last': 9418.29, u'symbol': u'$', u'buy': 9418.29, u'15m': 9418.29}\n",
      "{u'sell': 9418.29, u'last': 9418.29, u'symbol': u'$', u'buy': 9418.29, u'15m': 9418.29}\n",
      "{u'sell': 9418.29, u'last': 9418.29, u'symbol': u'$', u'buy': 9418.29, u'15m': 9418.29}\n",
      "{u'sell': 9418.29, u'last': 9418.29, u'symbol': u'$', u'buy': 9418.29, u'15m': 9418.29}\n",
      "{u'sell': 9418.29, u'last': 9418.29, u'symbol': u'$', u'buy': 9418.29, u'15m': 9418.29}\n",
      "{u'sell': 9418.29, u'last': 9418.29, u'symbol': u'$', u'buy': 9418.29, u'15m': 9418.29}\n",
      "{u'sell': 9418.29, u'last': 9418.29, u'symbol': u'$', u'buy': 9418.29, u'15m': 9418.29}\n",
      "{u'sell': 9418.29, u'last': 9418.29, u'symbol': u'$', u'buy': 9418.29, u'15m': 9418.29}\n"
     ]
    }
   ],
   "source": [
    "TCP_IP = \"localhost\"\n",
    "TCP_PORT = 9997\n",
    "conn = None\n",
    "s = socket.socket(socket.AF_INET, socket.SOCK_STREAM)\n",
    "s.bind((TCP_IP, TCP_PORT))\n",
    "s.listen(1)\n",
    "print(\"Waiting for TCP connection...\")\n",
    "conn, addr = s.accept()\n",
    "print \"\\nConnected to client at \", addr,\"\\n\"\n",
    "value_serializer=lambda x: json.dumps(x).encode('utf-8')\n",
    "\n",
    "while (True):\n",
    "    time.sleep(sleep_time)\n",
    "    try:\n",
    "        resp = req.get(ticker_url)\n",
    "        json_data = json.loads(resp.text)\n",
    "        print('USD Data', json_data['USD'])\n",
    "        conn.send(value_serializer(json_data) + \"\\n\")\n",
    "    except:\n",
    "        e = sys.exc_info()[0]\n",
    "        print(\"Error4: %s\" % e)"
   ]
  },
  {
   "cell_type": "code",
   "execution_count": null,
   "metadata": {},
   "outputs": [],
   "source": []
  },
  {
   "cell_type": "code",
   "execution_count": 1,
   "metadata": {},
   "outputs": [],
   "source": [
    "import findspark"
   ]
  },
  {
   "cell_type": "code",
   "execution_count": 2,
   "metadata": {},
   "outputs": [],
   "source": [
    "findspark.init()"
   ]
  },
  {
   "cell_type": "code",
   "execution_count": 3,
   "metadata": {},
   "outputs": [],
   "source": [
    "# Create a local StreamingContext with two working thread and batch interval of 1 second\n",
    "from pyspark import SparkContext, SQLContext, Row\n",
    "from pyspark.streaming import StreamingContext"
   ]
  },
  {
   "cell_type": "code",
   "execution_count": 4,
   "metadata": {},
   "outputs": [],
   "source": [
    "import json"
   ]
  },
  {
   "cell_type": "code",
   "execution_count": 5,
   "metadata": {},
   "outputs": [],
   "source": [
    "spc = SparkContext(\"local[2]\", \"LocalWordCount\")\n",
    "stc = StreamingContext(spc, 10)\n",
    "stc.checkpoint(\"checkpoint\")\n",
    "\n",
    "sqlContext = SQLContext(spc)"
   ]
  },
  {
   "cell_type": "code",
   "execution_count": 6,
   "metadata": {},
   "outputs": [],
   "source": [
    "if 'prev_price_out' not in globals():\n",
    "    globals()['prev_price_out']=0\n",
    "    \n",
    "    \n",
    "def get_data(time, message):\n",
    "    \n",
    "    print(\"\\n========= %s =========\" % str(time))\n",
    "\n",
    "    prev_price = globals()['prev_price_out']\n",
    "    \n",
    "    load_rdd0 = message.map(lambda x: json.loads(x))\n",
    "    load_rdd1 = load_rdd0.map(lambda x: x['USD']['sell'])\n",
    "    \n",
    "    if len (load_rdd1.collect()) > 0 :\n",
    "    \n",
    "        new_price = float(load_rdd1.collect()[-1])\n",
    "        strike_price=round(prev_price - 0.0005*(prev_price), 2)\n",
    "\n",
    "        print(\"Previous price  : \" + str(prev_price))\n",
    "        print(\"New price       : \" + str(new_price))\n",
    "        print(\"Strike Price    : \" + str(strike_price))\n",
    "\n",
    "        if ( new_price < strike_price ):\n",
    "            print \"Price is less than previous values by 0.05%. Maybe time to initiate a BUY.\"\n",
    "        else:\n",
    "            print \"Price is not less than previous values by 0.05%\"\n",
    "\n",
    "        globals()['prev_price_out']=new_price\n",
    "        print(\"-----------------------------------------\")\n",
    "    \n",
    "    return\n",
    "\n",
    "lines = stc.socketTextStream(\"localhost\", 9997)\n",
    "lines.foreachRDD(get_data)"
   ]
  },
  {
   "cell_type": "code",
   "execution_count": 7,
   "metadata": {},
   "outputs": [
    {
     "name": "stdout",
     "output_type": "stream",
     "text": [
      "========= 2020-06-17 21:01:50 =========\n",
      "('prev_price=', 0)\n",
      "Previous price  : 0\n",
      "New price       : 9421.33\n",
      "Strike Price    : 0.0\n",
      "Price is not less than previous values by 0.05%\n",
      "-----------------------------------------\n",
      "========= 2020-06-17 21:02:00 =========\n",
      "('prev_price=', 9421.33)\n",
      "Previous price  : 9421.33\n",
      "New price       : 9421.33\n",
      "Strike Price    : 9416.62\n",
      "Price is not less than previous values by 0.05%\n",
      "-----------------------------------------\n",
      "========= 2020-06-17 21:02:10 =========\n",
      "('prev_price=', 9421.33)\n",
      "Previous price  : 9421.33\n",
      "New price       : 9419.02\n",
      "Strike Price    : 9416.62\n",
      "Price is not less than previous values by 0.05%\n",
      "-----------------------------------------\n",
      "========= 2020-06-17 21:02:20 =========\n",
      "('prev_price=', 9419.02)\n",
      "Previous price  : 9419.02\n",
      "New price       : 9419.02\n",
      "Strike Price    : 9414.31\n",
      "Price is not less than previous values by 0.05%\n",
      "-----------------------------------------\n",
      "========= 2020-06-17 21:02:30 =========\n",
      "('prev_price=', 9419.02)\n",
      "Previous price  : 9419.02\n",
      "New price       : 9419.02\n",
      "Strike Price    : 9414.31\n",
      "Price is not less than previous values by 0.05%\n",
      "-----------------------------------------\n",
      "========= 2020-06-17 21:02:40 =========\n",
      "('prev_price=', 9419.02)\n",
      "Previous price  : 9419.02\n",
      "New price       : 9419.02\n",
      "Strike Price    : 9414.31\n",
      "Price is not less than previous values by 0.05%\n",
      "-----------------------------------------\n",
      "========= 2020-06-17 21:02:50 =========\n",
      "('prev_price=', 9419.02)\n",
      "Previous price  : 9419.02\n",
      "New price       : 9419.02\n",
      "Strike Price    : 9414.31\n",
      "Price is not less than previous values by 0.05%\n",
      "-----------------------------------------\n",
      "========= 2020-06-17 21:03:00 =========\n",
      "('prev_price=', 9419.02)\n",
      "Previous price  : 9419.02\n",
      "New price       : 9419.02\n",
      "Strike Price    : 9414.31\n",
      "Price is not less than previous values by 0.05%\n",
      "-----------------------------------------\n",
      "========= 2020-06-17 21:03:10 =========\n",
      "('prev_price=', 9419.02)\n",
      "Previous price  : 9419.02\n",
      "New price       : 9418.29\n",
      "Strike Price    : 9414.31\n",
      "Price is not less than previous values by 0.05%\n",
      "-----------------------------------------\n",
      "========= 2020-06-17 21:03:20 =========\n",
      "('prev_price=', 9418.29)\n",
      "Previous price  : 9418.29\n",
      "New price       : 9418.29\n",
      "Strike Price    : 9413.58\n",
      "Price is not less than previous values by 0.05%\n",
      "-----------------------------------------\n",
      "========= 2020-06-17 21:03:30 =========\n",
      "('prev_price=', 9418.29)\n",
      "Previous price  : 9418.29\n",
      "New price       : 9418.29\n",
      "Strike Price    : 9413.58\n",
      "Price is not less than previous values by 0.05%\n",
      "-----------------------------------------\n",
      "========= 2020-06-17 21:03:40 =========\n",
      "('prev_price=', 9418.29)\n",
      "Previous price  : 9418.29\n",
      "New price       : 9418.29\n",
      "Strike Price    : 9413.58\n",
      "Price is not less than previous values by 0.05%\n",
      "-----------------------------------------\n",
      "========= 2020-06-17 21:03:50 =========\n",
      "('prev_price=', 9418.29)\n",
      "Previous price  : 9418.29\n",
      "New price       : 9418.29\n",
      "Strike Price    : 9413.58\n",
      "Price is not less than previous values by 0.05%\n",
      "-----------------------------------------\n"
     ]
    }
   ],
   "source": [
    "stc.start()             # Start the computation\n",
    "stc.awaitTermination()  # Wait for the compute"
   ]
  },
  {
   "cell_type": "code",
   "execution_count": null,
   "metadata": {},
   "outputs": [],
   "source": [
    "stc.stop()"
   ]
  },
  {
   "cell_type": "code",
   "execution_count": null,
   "metadata": {},
   "outputs": [],
   "source": []
  }
 ],
 "metadata": {
  "kernelspec": {
   "display_name": "Python 2",
   "language": "python",
   "name": "python2"
  },
  "language_info": {
   "codemirror_mode": {
    "name": "ipython",
    "version": 2
   },
   "file_extension": ".py",
   "mimetype": "text/x-python",
   "name": "python",
   "nbconvert_exporter": "python",
   "pygments_lexer": "ipython2",
   "version": "2.7.16"
  }
 },
 "nbformat": 4,
 "nbformat_minor": 2
}
