{
 "cells": [
  {
   "cell_type": "markdown",
   "metadata": {},
   "source": [
    "Spark Assignment #2 : Dataframes and SparkSQL\n",
    "\n",
    "Author: Tryambak Kaushik"
   ]
  },
  {
   "cell_type": "code",
   "execution_count": 3,
   "metadata": {},
   "outputs": [
    {
     "name": "stdout",
     "output_type": "stream",
     "text": [
      "<pyspark.context.SparkContext object at 0x7f9dec36cb50>\n"
     ]
    }
   ],
   "source": [
    "import os\n",
    "import findspark\n",
    "import datetime\n",
    "findspark.init()\n",
    "from pyspark import SparkContext, SQLContext, HiveContext\n",
    "sc = SparkContext(\"local\", \"first app\")\n",
    "\n",
    "sqlContext = SQLContext(sc)\n",
    "hiveContext = HiveContext(sc)\n",
    "\n",
    "print(sc)"
   ]
  },
  {
   "cell_type": "code",
   "execution_count": 4,
   "metadata": {},
   "outputs": [],
   "source": [
    "from pyspark.sql.functions import *\n",
    "from pyspark.sql.types import DateType, IntegerType, DoubleType\n",
    "from pyspark.sql.window import Window\n",
    "import re\n",
    "\n",
    "import matplotlib\n",
    "import matplotlib.pyplot as plt\n",
    "import pandas as pd"
   ]
  },
  {
   "cell_type": "code",
   "execution_count": 5,
   "metadata": {},
   "outputs": [],
   "source": [
    "MYDIR='/user/hdfs/sparkdata'"
   ]
  },
  {
   "cell_type": "code",
   "execution_count": 4,
   "metadata": {},
   "outputs": [],
   "source": [
    "%%bash -s \"$MYDIRS3\"\n",
    "\n",
    "if hdfs dfs -test -e $1 ; then \n",
    "echo \"Deleting existing $1 on HDFS\"\n",
    "hadoop fs - rm -R $1\n",
    "fi\n",
    "\n",
    "echo \"Creating new $1 on HDFS\"\n",
    "hadoop fs -mkdir $1\n",
    "\n",
    "hadoop fs -find / -name $1\n",
    "\n",
    "echo \"Transfering files from local file system to hadoop file system\"\n",
    "for file in /var/lib/hadoop-hdfs/datauniversity/spark/orders/*.csv\n",
    "do\n",
    " hadoop fs -put $file $1\n",
    "done\n",
    "\n",
    "hadoop fs -ls $1"
   ]
  },
  {
   "cell_type": "code",
   "execution_count": 6,
   "metadata": {},
   "outputs": [],
   "source": [
    "# Read file for HDFS\n",
    "orders=sc.textFile(\"hdfs://quickstart.cloudera:8020\"+MYDIR+\"/orders.csv\")\n",
    "orderdetails=sc.textFile(\"hdfs://quickstart.cloudera:8020\"+MYDIR+\"/orderdetails.csv\")\n",
    "products=sc.textFile(\"hdfs://quickstart.cloudera:8020\"+MYDIR+\"/products.csv\")\n",
    "customers=sc.textFile(\"hdfs://quickstart.cloudera:8020\"+MYDIR+\"/customers.csv\")"
   ]
  },
  {
   "cell_type": "code",
   "execution_count": 7,
   "metadata": {},
   "outputs": [],
   "source": [
    "ordersrdd=orders.map(lambda line: (line.split('|')[0].strip('\"'), \n",
    "                                   line.split('|')[1].strip('\"'),\n",
    "                                   line.split('|')[2].strip('\"'),\n",
    "                                   line.split('|')[3].strip('\"'), \n",
    "                                   line.split('|')[4].strip('\"'),\n",
    "                                   line.split('|')[5].strip('\"'),\n",
    "                                   line.split('|')[6].strip('\"')))\n",
    "\n",
    "\n",
    "orderdetailsrdd=orderdetails.map(lambda line: (line.split('|')[0].strip('\"'), \n",
    "                                               line.split('|')[1].strip('\"'),\n",
    "                                               line.split('|')[2].strip('\"'), \n",
    "                                               line.split('|')[3].strip('\"'),\n",
    "                                               line.split('|')[4].strip('\"')))\n",
    "\n",
    "productsrdd=products.map(\n",
    "    lambda line: line if line.startswith('\"') and line.endswith('\"') else '2' ).filter(\n",
    "    lambda x: len(x)>3).map(lambda line: (line.split('|')[0].strip('\"'), \n",
    "                                               line.split('|')[1].strip('\"'),\n",
    "                                               line.split('|')[2].strip('\"'), \n",
    "                                               line.split('|')[3].strip('\"'),\n",
    "                                               line.split('|')[4].strip('\"'),\n",
    "                                               line.split('|')[5].strip('\"'),\n",
    "                                               line.split('|')[6].strip('\"'),\n",
    "                                               line.split('|')[7].strip('\"'),\n",
    "                                               line.split('|')[8].strip('\"')))\n",
    "\n",
    "customersrdd=customers.map(lambda line: (line.split('|')[0].strip('\"'), \n",
    "                                   line.split('|')[1].strip('\"'),\n",
    "                                   line.split('|')[2].strip('\"'),\n",
    "                                   line.split('|')[3].strip('\"'), \n",
    "                                   line.split('|')[4].strip('\"'),\n",
    "                                   line.split('|')[5].strip('\"'),\n",
    "                                   line.split('|')[6].strip('\"'),\n",
    "                                   line.split('|')[7].strip('\"'), \n",
    "                                   line.split('|')[8].strip('\"'),\n",
    "                                   line.split('|')[9].strip('\"'),\n",
    "                                   line.split('|')[10].strip('\"'),\n",
    "                                   line.split('|')[11].strip('\"'),\n",
    "                                   line.split('|')[12].strip('\"')))"
   ]
  },
  {
   "cell_type": "code",
   "execution_count": 8,
   "metadata": {},
   "outputs": [
    {
     "name": "stdout",
     "output_type": "stream",
     "text": [
      "+-----------+----------+------------+-----------+-------+--------------------+--------------+\n",
      "|orderNumber| orderDate|requiredDate|shippedDate| status|            comments|customerNumber|\n",
      "+-----------+----------+------------+-----------+-------+--------------------+--------------+\n",
      "|      10100|2003-01-06|  2003-01-13| 2003-01-10|Shipped|                  \\N|           363|\n",
      "|      10101|2003-01-09|  2003-01-18| 2003-01-11|Shipped|Check on availabi...|           128|\n",
      "+-----------+----------+------------+-----------+-------+--------------------+--------------+\n",
      "only showing top 2 rows\n",
      "\n",
      "+-----------+-----------+---------------+---------+---------------+\n",
      "|orderNumber|productCode|quantityOrdered|priceEach|orderLineNumber|\n",
      "+-----------+-----------+---------------+---------+---------------+\n",
      "|      10100|   S18_1749|             30|   136.00|              3|\n",
      "|      10100|   S18_2248|             50|    55.09|              2|\n",
      "+-----------+-----------+---------------+---------+---------------+\n",
      "only showing top 2 rows\n",
      "\n",
      "+-----------+--------------------+------------+------------+--------------------+--------------------+---------------+--------+------+\n",
      "|productCode|         productName| productLine|productScale|       productVendor|  productDescription|quantityInStock|buyPrice|  MSRP|\n",
      "+-----------+--------------------+------------+------------+--------------------+--------------------+---------------+--------+------+\n",
      "|   S10_1678|1969 Harley David...| Motorcycles|        1:10|     Min Lin Diecast|This replica feat...|           7933|   48.81| 95.70|\n",
      "|   S10_1949|1952 Alpine Renau...|Classic Cars|        1:10|Classic Metal Cre...|Turnable front wh...|           7305|   98.58|214.30|\n",
      "+-----------+--------------------+------------+------------+--------------------+--------------------+---------------+--------+------+\n",
      "only showing top 2 rows\n",
      "\n",
      "+--------------+------------------+---------------+----------------+----------+---------------+------------+---------+-----+----------+-------+----------------------+-----------+\n",
      "|customerNumber|      customerName|contactLastName|contactFirstName|     phone|   addressLine1|addressLine2|     city|state|postalCode|country|salesRepEmployeeNumber|creditLimit|\n",
      "+--------------+------------------+---------------+----------------+----------+---------------+------------+---------+-----+----------+-------+----------------------+-----------+\n",
      "|           103| Atelier graphique|        Schmitt|         Carine |40.32.2555| 54, rue Royale|          \\N|   Nantes|   \\N|     44000| France|                  1370|   21000.00|\n",
      "|           112|Signal Gift Stores|           King|            Jean|7025551838|8489 Strong St.|          \\N|Las Vegas|   NV|     83030|    USA|                  1166|   71800.00|\n",
      "+--------------+------------------+---------------+----------------+----------+---------------+------------+---------+-----+----------+-------+----------------------+-----------+\n",
      "only showing top 2 rows\n",
      "\n"
     ]
    }
   ],
   "source": [
    "df_orders=sqlContext.createDataFrame(ordersrdd, schema=['orderNumber', 'orderDate', \n",
    "                                                        'requiredDate', 'shippedDate', \n",
    "                                                        'status', 'comments', \n",
    "                                                        'customerNumber'])\n",
    "df_orders.show(2)\n",
    "\n",
    "df_orderdetails=sqlContext.createDataFrame(orderdetailsrdd, \n",
    "                                           schema=['orderNumber', 'productCode', \n",
    "                                                   'quantityOrdered', 'priceEach', \n",
    "                                                   'orderLineNumber'])\n",
    "df_orderdetails.show(2)\n",
    "\n",
    "df_productdetails=sqlContext.createDataFrame(productsrdd, \n",
    "                                           schema=['productCode', 'productName', \n",
    "                                                   'productLine', 'productScale',\n",
    "                                                  'productVendor', 'productDescription',\n",
    "                                                  'quantityInStock', 'buyPrice', 'MSRP'])\n",
    "df_productdetails.show(2)\n",
    "\n",
    "df_customers=sqlContext.createDataFrame(customersrdd, schema=['customerNumber', 'customerName', \n",
    "                                                        'contactLastName', 'contactFirstName', \n",
    "                                                        'phone', 'addressLine1', 'addressLine2',\n",
    "                                                        'city', 'state', 'postalCode', 'country',\n",
    "                                                             'salesRepEmployeeNumber', 'creditLimit'])\n",
    "df_customers.show(2)"
   ]
  },
  {
   "cell_type": "code",
   "execution_count": 9,
   "metadata": {},
   "outputs": [
    {
     "name": "stdout",
     "output_type": "stream",
     "text": [
      "Q1: Find orders that were shipped late to the customer\n",
      "\n",
      "A1.1: Orders where requiredDate < shippedDate\n",
      "\n",
      "+-----------+----------+------------+-----------+----------+--------------------+--------------+\n",
      "|orderNumber| orderDate|requiredDate|shippedDate|    status|            comments|customerNumber|\n",
      "+-----------+----------+------------+-----------+----------+--------------------+--------------+\n",
      "|      10165|2003-10-22|  2003-10-31| 2003-12-26|   Shipped|This order was on...|           148|\n",
      "|      10167|2003-10-23|  2003-10-30|         \\N| Cancelled|Customer called t...|           448|\n",
      "|      10248|2004-05-07|  2004-05-14|         \\N| Cancelled|Order was mistake...|           131|\n",
      "|      10260|2004-06-16|  2004-06-22|         \\N| Cancelled|Customer heard co...|           357|\n",
      "|      10262|2004-06-24|  2004-07-01|         \\N| Cancelled|This customer fou...|           141|\n",
      "|      10334|2004-11-19|  2004-11-28|         \\N|   On Hold|The outstaniding ...|           144|\n",
      "|      10401|2005-04-03|  2005-04-14|         \\N|   On Hold|Customer credit l...|           328|\n",
      "|      10407|2005-04-22|  2005-05-04|         \\N|   On Hold|Customer credit l...|           450|\n",
      "|      10414|2005-05-06|  2005-05-13|         \\N|   On Hold|Customer credit l...|           362|\n",
      "|      10420|2005-05-29|  2005-06-07|         \\N|In Process|                  \\N|           282|\n",
      "|      10421|2005-05-29|  2005-06-06|         \\N|In Process|Custom shipping i...|           124|\n",
      "|      10422|2005-05-30|  2005-06-11|         \\N|In Process|                  \\N|           157|\n",
      "|      10423|2005-05-30|  2005-06-05|         \\N|In Process|                  \\N|           314|\n",
      "|      10424|2005-05-31|  2005-06-08|         \\N|In Process|                  \\N|           141|\n",
      "|      10425|2005-05-31|  2005-06-07|         \\N|In Process|                  \\N|           119|\n",
      "+-----------+----------+------------+-----------+----------+--------------------+--------------+\n",
      "\n",
      "A1.2: Orders where requiredDate < shippedDate and status is shipped\n",
      "\n",
      "+-----------+----------+------------+-----------+-------+--------------------+--------------+\n",
      "|orderNumber| orderDate|requiredDate|shippedDate| status|            comments|customerNumber|\n",
      "+-----------+----------+------------+-----------+-------+--------------------+--------------+\n",
      "|      10165|2003-10-22|  2003-10-31| 2003-12-26|Shipped|This order was on...|           148|\n",
      "+-----------+----------+------------+-----------+-------+--------------------+--------------+\n",
      "\n"
     ]
    }
   ],
   "source": [
    "#1. Find orders that were shipped late to the customer\n",
    "print(\"Q1: Find orders that were shipped late to the customer\\n\")\n",
    "\n",
    "print(\"A1.1: Orders where requiredDate < shippedDate\\n\")\n",
    "df_orders.filter(df_orders.requiredDate < df_orders.shippedDate).show()\n",
    "\n",
    "print(\"A1.2: Orders where requiredDate < shippedDate and status is shipped\\n\")\n",
    "df_orders.filter( (df_orders.requiredDate < df_orders.shippedDate) & (df_orders.status.like('Shipped'))).show()"
   ]
  },
  {
   "cell_type": "code",
   "execution_count": 10,
   "metadata": {},
   "outputs": [
    {
     "name": "stdout",
     "output_type": "stream",
     "text": [
      "Q2: List orders where total amount exceeds $250\n",
      "\n",
      "A2.1: Total Amount = quantityOrdered * orderdetails\n",
      "The sorted list (by Total Amount) of orders where total amount exceeds $250:\n",
      "+-----------+------------+\n",
      "|orderNumber|Total Amount|\n",
      "+-----------+------------+\n",
      "|      10408|      615.45|\n",
      "|      10144|      1128.2|\n",
      "|      10158|     1491.38|\n",
      "|      10116|     1627.56|\n",
      "|      10345|     1676.14|\n",
      "|      10242|     1679.92|\n",
      "|      10364|     1834.56|\n",
      "|      10286|      1960.8|\n",
      "|      10409|     2326.18|\n",
      "|      10317|     2434.25|\n",
      "|      10277|     2611.84|\n",
      "|      10132|      2880.0|\n",
      "|      10118|      3101.4|\n",
      "|      10376|     3452.75|\n",
      "|      10303|     3474.66|\n",
      "|      10387|     3516.04|\n",
      "|      10189|     3879.96|\n",
      "|      10294|      4424.4|\n",
      "|      10154|     4465.85|\n",
      "|      10385|     4466.71|\n",
      "+-----------+------------+\n",
      "only showing top 20 rows\n",
      "\n",
      "A2.2: Total Amount = quantityOrdered * orderdetails\n",
      "The sorted list (by ordeNumber) of orders where total amount exceeds $250:\n",
      "+-----------+------------+\n",
      "|orderNumber|Total Amount|\n",
      "+-----------+------------+\n",
      "|      10100|    10223.83|\n",
      "|      10101|    10549.01|\n",
      "|      10102|     5494.78|\n",
      "|      10103|    50218.95|\n",
      "|      10104|     40206.2|\n",
      "|      10105|    53959.21|\n",
      "|      10106|    52151.81|\n",
      "|      10107|    22292.62|\n",
      "|      10108|    51001.22|\n",
      "|      10109|    25833.14|\n",
      "|      10110|    48425.69|\n",
      "|      10111|    16537.85|\n",
      "|      10112|     7674.94|\n",
      "|      10113|     11044.3|\n",
      "|      10114|    33383.14|\n",
      "|      10115|    21665.98|\n",
      "|      10116|     1627.56|\n",
      "|      10117|    44380.15|\n",
      "|      10118|      3101.4|\n",
      "|      10119|    35826.33|\n",
      "+-----------+------------+\n",
      "only showing top 20 rows\n",
      "\n"
     ]
    }
   ],
   "source": [
    "#2. List orders where total amount exceeds $250\n",
    "print('Q2: List orders where total amount exceeds $250\\n')\n",
    "\n",
    "print(\"\"\"A2.1: Total Amount = quantityOrdered * orderdetails\n",
    "The sorted list (by Total Amount) of orders where total amount exceeds $250:\"\"\")\n",
    "df_orderdetails.withColumn('Total',\n",
    "    (df_orderdetails.quantityOrdered * df_orderdetails.priceEach)).groupby(\n",
    "    'orderNumber').agg(round(sum('Total'),2).alias('Total Amount')).filter(\n",
    "    col('Total Amount')>250).sort('Total Amount').show()\n",
    "\n",
    "print(\"\"\"A2.2: Total Amount = quantityOrdered * orderdetails\n",
    "The sorted list (by ordeNumber) of orders where total amount exceeds $250:\"\"\")\n",
    "df_orderdetails.withColumn('Total',\n",
    "    (df_orderdetails.quantityOrdered * df_orderdetails.priceEach)).groupby(\n",
    "    'orderNumber').agg(round(sum('Total'),2).alias('Total Amount')).filter(\n",
    "    col('Total Amount')>250).sort('orderNumber').show()"
   ]
  },
  {
   "cell_type": "code",
   "execution_count": 11,
   "metadata": {},
   "outputs": [
    {
     "name": "stdout",
     "output_type": "stream",
     "text": [
      "Q3: Find the productCode per order that is most expensive\n",
      "\n",
      "A3: The desired list sorted by orderNumber is:\n",
      "+-----------+-----------+---------+\n",
      "|orderNumber|productCode|priceEach|\n",
      "+-----------+-----------+---------+\n",
      "|      10100|   S18_1749|    136.0|\n",
      "|      10101|   S18_2795|   167.06|\n",
      "|      10102|   S18_1342|    95.55|\n",
      "|      10103|   S10_1949|    214.3|\n",
      "|      10104|   S18_3232|   165.95|\n",
      "+-----------+-----------+---------+\n",
      "only showing top 5 rows\n",
      "\n"
     ]
    }
   ],
   "source": [
    "#3. Find the productCode per order that is most expensive\n",
    "print(\"Q3: Find the productCode per order that is most expensive\\n\")\n",
    "\n",
    "print(\"A3: The desired list sorted by orderNumber is:\")\n",
    "df_orderdetails_hv=hiveContext.createDataFrame(orderdetailsrdd, \n",
    "                                           schema=['orderNumber', 'productCode', \n",
    "                                                   'quantityOrdered', 'priceEach', \n",
    "                                                   'orderLineNumber'])\n",
    "\n",
    "w = Window().partitionBy(\"orderNumber\").orderBy(col(\"priceEach\").desc())\n",
    "\n",
    "df_orderdetails_numeric=df_orderdetails_hv.select(\n",
    "    'orderNumber', 'productCode', df_orderdetails_hv.priceEach.cast(DoubleType()))\n",
    "\n",
    "df_temp=df_orderdetails_numeric.withColumn('rn', row_number().over(w)).where(\n",
    "    col('rn')==1).select('orderNumber', 'productCode', 'priceEach')\n",
    "\n",
    "df_temp.sort('orderNumber').show(5)"
   ]
  },
  {
   "cell_type": "code",
   "execution_count": 12,
   "metadata": {},
   "outputs": [
    {
     "name": "stdout",
     "output_type": "stream",
     "text": [
      "Q4: Write a list of customers (include demographic information) \n",
      "whose order were late (point 1 above). This list should have an\n",
      "additional column called Gift Card Amount. Populate Gift Card\n",
      "Amount as follows: If total order exceeds $100 then Gift Card\n",
      "Amount=$50 else Gift Card Amount=$25, Use Parquet format for output.\n",
      "\n",
      "\n",
      "A4.1: The list of customers whose 'total order amount' (quantityOrdered * priceEach)\n",
      "of one product is greater than 100 and delayed\n",
      "+--------------+--------------------+---------------+----------------+---------------+--------------------+--------------------+---------+-----+----------+---------+----------------------+-----------+-----------+----------+------------+-----------+----------+--------------------+-----------+---------------+---------+---------------+------+----------------+\n",
      "|customerNumber|        customerName|contactLastName|contactFirstName|          phone|        addressLine1|        addressLine2|     city|state|postalCode|  country|salesRepEmployeeNumber|creditLimit|orderNumber| orderDate|requiredDate|shippedDate|    status|            comments|productCode|quantityOrdered|priceEach|orderLineNumber| Total|Gift Card Amount|\n",
      "+--------------+--------------------+---------------+----------------+---------------+--------------------+--------------------+---------+-----+----------+---------+----------------------+-----------+-----------+----------+------------+-----------+----------+--------------------+-----------+---------------+---------+---------------+------+----------------+\n",
      "|           282|Souveniers And Th...|         Huxley|          Adrian|+61 2 9495 8555|Monitor Money Bui...|     815 Pacific Hwy|Chatswood|  NSW|      2067|Australia|                  1611|   93300.00|      10420|2005-05-29|  2005-06-07|         \\N|In Process|                  \\N|   S24_3969|             15|    35.29|              3|529.35|              50|\n",
      "|           450|The Sharp Gifts W...|          Frick|             Sue|     4085553659|      3086 Ingle Ln.|                  \\N| San Jose|   CA|     94217|      USA|                  1165|   77600.00|      10407|2005-04-22|  2005-05-04|         \\N|   On Hold|Customer credit l...|   S18_4409|              6|    91.11|              3|546.66|              50|\n",
      "|           119|   La Rochelle Gifts|        Labrune|         Janine |     40.67.8555|67, rue des Cinqu...|                  \\N|   Nantes|   \\N|     44000|   France|                  1370|  118200.00|      10425|2005-05-31|  2005-06-07|         \\N|In Process|                  \\N|   S32_2509|             11|    50.32|              6|553.52|              50|\n",
      "|           148|Dragon Souveniers...|      Natividad|            Eric|   +65 221 7555|          Bronz Sok.|Bronz Apt. 3/6 Te...|Singapore|   \\N|    079903|Singapore|                  1621|  103800.00|      10165|2003-10-22|  2003-10-31| 2003-12-26|   Shipped|This order was on...|   S24_2840|             27|    31.12|             13|840.24|              50|\n",
      "|           328|Tekni Collectable...|          Brown|         William|     2015559350|       7476 Moss Rd.|                  \\N|   Newark|   NJ|     94019|      USA|                  1323|   43000.00|      10401|2005-04-03|  2005-04-14|         \\N|   On Hold|Customer credit l...|  S700_1691|             11|    77.64|              8|854.04|              50|\n",
      "+--------------+--------------------+---------------+----------------+---------------+--------------------+--------------------+---------+-----+----------+---------+----------------------+-----------+-----------+----------+------------+-----------+----------+--------------------+-----------+---------------+---------+---------------+------+----------------+\n",
      "only showing top 5 rows\n",
      "\n",
      "The total number of customers for the above 'total order amount' based list =  159\n",
      "\n",
      "\n",
      "A4.2: The list of customers whose 'priceEach' amount\n",
      "of one product is greater than 100 and delayed\n",
      "+--------------+--------------------+---------------+----------------+---------------+--------------------+--------------------+---------+-----+----------+---------+----------------------+-----------+-----------+----------+------------+-----------+----------+--------------------+-----------+---------------+---------+---------------+--------------+\n",
      "|customerNumber|        customerName|contactLastName|contactFirstName|          phone|        addressLine1|        addressLine2|     city|state|postalCode|  country|salesRepEmployeeNumber|creditLimit|orderNumber| orderDate|requiredDate|shippedDate|    status|            comments|productCode|quantityOrdered|priceEach|orderLineNumber|GiftCardAmount|\n",
      "+--------------+--------------------+---------------+----------------+---------------+--------------------+--------------------+---------+-----+----------+---------+----------------------+-----------+-----------+----------+------------+-----------+----------+--------------------+-----------+---------------+---------+---------------+--------------+\n",
      "|           144|Volvo Model Repli...|       Berglund|      Christina |   0921-12 3555|     Berguvsvägen  8|                  \\N|    Luleå|   \\N|  S-958 22|   Sweden|                  1504|   53100.00|      10334|2004-11-19|  2004-11-28|         \\N|   On Hold|The outstaniding ...|   S18_4600|             49|   101.71|              4|            50|\n",
      "|           450|The Sharp Gifts W...|          Frick|             Sue|     4085553659|      3086 Ingle Ln.|                  \\N| San Jose|   CA|     94217|      USA|                  1165|   77600.00|      10407|2005-04-22|  2005-05-04|         \\N|   On Hold|Customer credit l...|   S24_3432|             43|   101.73|              9|            50|\n",
      "|           282|Souveniers And Th...|         Huxley|          Adrian|+61 2 9495 8555|Monitor Money Bui...|     815 Pacific Hwy|Chatswood|  NSW|      2067|Australia|                  1611|   93300.00|      10420|2005-05-29|  2005-06-07|         \\N|In Process|                  \\N|   S24_3432|             26|   104.94|             12|            50|\n",
      "|           148|Dragon Souveniers...|      Natividad|            Eric|   +65 221 7555|          Bronz Sok.|Bronz Apt. 3/6 Te...|Singapore|   \\N|    079903|Singapore|                  1621|  103800.00|      10165|2003-10-22|  2003-10-31| 2003-12-26|   Shipped|This order was on...|   S24_4048|             24|   106.45|              8|            50|\n",
      "|           148|Dragon Souveniers...|      Natividad|            Eric|   +65 221 7555|          Bronz Sok.|Bronz Apt. 3/6 Te...|Singapore|   \\N|    079903|Singapore|                  1621|  103800.00|      10165|2003-10-22|  2003-10-31| 2003-12-26|   Shipped|This order was on...|   S50_1392|             48|   106.49|             10|            50|\n",
      "+--------------+--------------------+---------------+----------------+---------------+--------------------+--------------------+---------+-----+----------+---------+----------------------+-----------+-----------+----------+------------+-----------+----------+--------------------+-----------+---------------+---------+---------------+--------------+\n",
      "only showing top 5 rows\n",
      "\n",
      "The total number of customers for the above 'priceEach' based list =  50\n"
     ]
    }
   ],
   "source": [
    "# 4. Write a list of customers (include demographic information)\n",
    "# whose order were late (point 1 above). This list should have an\n",
    "# additional column called Gift Card Amount. Populate Gift Card\n",
    "# Amount as follows: If total order exceeds $100 then Gift Card\n",
    "# Amount=$50 else Gift Card Amount=$25, Use Parquet format\n",
    "# for output.\n",
    "\n",
    "print(\"\"\"Q4: Write a list of customers (include demographic information) \n",
    "whose order were late (point 1 above). This list should have an\n",
    "additional column called Gift Card Amount. Populate Gift Card\n",
    "Amount as follows: If total order exceeds $100 then Gift Card\n",
    "Amount=$50 else Gift Card Amount=$25, Use Parquet format for output.\"\"\")\n",
    "\n",
    "\n",
    "df_temp1=df_orders.join(df_orderdetails, on='orderNumber').filter(df_orders.requiredDate < df_orders.shippedDate)\n",
    "df_temp2=df_customers.join(df_temp1, on='customerNumber')\n",
    "\n",
    "print(\"\\n\")\n",
    "print(\"\"\"A4.1: The list of customers whose 'total order amount' (quantityOrdered * priceEach)\n",
    "of one product is greater than 100 and delayed\"\"\")\n",
    "df_temp=df_temp2.withColumn('Total',\n",
    "    round(df_temp2.quantityOrdered * df_temp2.priceEach, 2)).filter(col('Total')>100).sort('Total')\n",
    "df_final=df_temp.withColumn('Gift Card Amount', when(col('Total')>100, 50).otherwise(25))\n",
    "df_final.show(5)\n",
    "print \"The total number of customers for the above 'total order amount' based list = \", df_final.count()\n",
    "\n",
    "print(\"\\n\")\n",
    "print(\"\"\"A4.2: The list of customers whose 'priceEach' amount\n",
    "of one product is greater than 100 and delayed\"\"\")\n",
    "df_temp=df_temp2.filter(col('priceEach')>100).sort('priceEach')\n",
    "df_final=df_temp.withColumn('GiftCardAmount', when(col('priceEach')>100, 50).otherwise(25))\n",
    "df_final.show(5)\n",
    "print \"The total number of customers for the above 'priceEach' based list = \", df_final.count()"
   ]
  },
  {
   "cell_type": "code",
   "execution_count": 13,
   "metadata": {},
   "outputs": [],
   "source": [
    "MYDIRS2='/user/hdfs/sparkdata/soln2'"
   ]
  },
  {
   "cell_type": "code",
   "execution_count": 87,
   "metadata": {},
   "outputs": [
    {
     "name": "stdout",
     "output_type": "stream",
     "text": [
      "Deleting existing /user/hdfs/sparkdata/soln2 on HDFS\n",
      "Deleted /user/hdfs/sparkdata/soln2\n",
      "Creating new directory /user/hdfs/sparkdata/soln2 on HDFS\n"
     ]
    }
   ],
   "source": [
    "%%bash -s \"$MYDIRS2\"\n",
    "\n",
    "if hdfs dfs -test -e $1 ; then \n",
    "echo \"Deleting existing $1 on HDFS\"\n",
    "hadoop fs -rm -r $1\n",
    "fi\n",
    "\n",
    "echo \"Creating new directory $1 on HDFS\"\n",
    "hadoop fs -mkdir $1"
   ]
  },
  {
   "cell_type": "code",
   "execution_count": 88,
   "metadata": {},
   "outputs": [
    {
     "name": "stdout",
     "output_type": "stream",
     "text": [
      "A4.3\n",
      "\n",
      "Saving file in parquet format\n",
      "Saving Complete\n",
      "\n",
      "Reading file from parquet format\n",
      "+--------------+--------------------+---------------+----------------+------------+---------------+------------+--------+-----+----------+-------+----------------------+-----------+-----------+----------+------------+-----------+-------+--------------------+-----------+---------------+---------+---------------+--------------+\n",
      "|customerNumber|        customerName|contactLastName|contactFirstName|       phone|   addressLine1|addressLine2|    city|state|postalCode|country|salesRepEmployeeNumber|creditLimit|orderNumber| orderDate|requiredDate|shippedDate| status|            comments|productCode|quantityOrdered|priceEach|orderLineNumber|GiftCardAmount|\n",
      "+--------------+--------------------+---------------+----------------+------------+---------------+------------+--------+-----+----------+-------+----------------------+-----------+-----------+----------+------------+-----------+-------+--------------------+-----------+---------------+---------+---------------+--------------+\n",
      "|           144|Volvo Model Repli...|       Berglund|      Christina |0921-12 3555|Berguvsvägen  8|          \\N|   Luleå|   \\N|  S-958 22| Sweden|                  1504|   53100.00|      10334|2004-11-19|  2004-11-28|         \\N|On Hold|The outstaniding ...|   S18_4600|             49|   101.71|              4|            50|\n",
      "|           450|The Sharp Gifts W...|          Frick|             Sue|  4085553659| 3086 Ingle Ln.|          \\N|San Jose|   CA|     94217|    USA|                  1165|   77600.00|      10407|2005-04-22|  2005-05-04|         \\N|On Hold|Customer credit l...|   S24_3432|             43|   101.73|              9|            50|\n",
      "+--------------+--------------------+---------------+----------------+------------+---------------+------------+--------+-----+----------+-------+----------------------+-----------+-----------+----------+------------+-----------+-------+--------------------+-----------+---------------+---------+---------------+--------------+\n",
      "only showing top 2 rows\n",
      "\n"
     ]
    }
   ],
   "source": [
    "print(\"A4.3\")\n",
    "print(\"\\nSaving file in parquet format\")\n",
    "df_final.write.parquet(\"hdfs://quickstart.cloudera:8020\"+MYDIRS2+\"/parquet_df\")\n",
    "print(\"Saving Complete\")\n",
    "\n",
    "print(\"\\nReading file from parquet format\")\n",
    "df_parquet=sqlContext.read.parquet(\"hdfs://quickstart.cloudera:8020\"+MYDIRS2+\"/parquet_df\")\n",
    "df_parquet.show(2)"
   ]
  },
  {
   "cell_type": "code",
   "execution_count": 90,
   "metadata": {},
   "outputs": [
    {
     "name": "stdout",
     "output_type": "stream",
     "text": [
      "Q5: Can you output the list above in 1 single CSV file?\n",
      "\n",
      "A5: Saving the output list on local file system\n",
      "Saving the dataframe as CSV file\n",
      "The saved file name is:  final_customers_S2Q5.csv\n",
      "\n",
      "Loading the saved CSV file as dataframe\n",
      "The total number of rows in loaded CSV file is: 50\n"
     ]
    }
   ],
   "source": [
    "#5. Can you output the list above in 1 single CSV file?\n",
    "print(\"Q5: Can you output the list above in 1 single CSV file?\\n\")\n",
    "\n",
    "print(\"A5: Saving the output list on local file system\")\n",
    "\n",
    "mypwd = os.getcwd()\n",
    "myfile='final_customers_S2Q5.csv'\n",
    "\n",
    "print \"Saving the dataframe as CSV file\"\n",
    "df_final.coalesce(1).rdd.saveAsTextFile(\"hdfs://quickstart.cloudera:8020\" + MYDIRS2 + \"/\" + myfile)\n",
    "print \"The saved file name is: \", myfile\n",
    "\n",
    "print \"\\nLoading the saved CSV file as dataframe\"\n",
    "final_S2Q5_read = sc.textFile(\"hdfs://quickstart.cloudera:8020\" + MYDIRS2 + \"/\" + myfile)\n",
    "         \n",
    "\n",
    "final_S2Q5_readrdd=final_S2Q5_read.map(lambda line: (line.split(',')[0].strip('\"'), \n",
    "                                   line.split(',')[1].strip('\"'), line.split(',')[2].strip('\"'),\n",
    "                                   line.split(',')[3].strip('\"'), line.split(',')[4].strip('\"'),\n",
    "                                   line.split(',')[5].strip('\"'), line.split(',')[6].strip('\"'),\n",
    "                                   line.split(',')[7].strip('\"'), line.split(',')[8].strip('\"'),\n",
    "                                   line.split(',')[9].strip('\"'), line.split(',')[10].strip('\"'),\n",
    "                                   line.split(',')[11].strip('\"'), line.split(',')[12].strip('\"'),\n",
    "                                   line.split(',')[13].strip('\"'), line.split(',')[14].strip('\"'),\n",
    "                                   line.split(',')[15].strip('\"'), line.split(',')[16].strip('\"'),\n",
    "                                   line.split(',')[17].strip('\"'), line.split(',')[18].strip('\"'),\n",
    "                                   line.split(',')[19].strip('\"'), line.split(',')[20].strip('\"'),\n",
    "                                   line.split(',')[21].strip('\"'), line.split(',')[22].strip('\"'),\n",
    "                                   line.split(',')[23].strip('\"')\n",
    "                                                    ))\n",
    "\n",
    "df_final_read=sqlContext.createDataFrame(final_S2Q5_readrdd, schema=['customerNumber', 'customerName', \n",
    "                                                        'contactLastName', 'contactFirstName', \n",
    "                                                        'phone', 'addressLine1', 'addressLine2',\n",
    "                                                        'city', 'state', 'postalCode', 'country',\n",
    "                                                        'salesRepEmployeeNumber', 'creditLimit',\n",
    "                                                        'orderNumber', 'orderDate', 'requiredDate',\n",
    "                                                        'shippedDate', 'status', 'comments',\n",
    "                                                        'productCode', 'quantityOrdered', \n",
    "                                                        'priceEach', 'orderLineNumber', 'GiftCardAmount'])\n",
    "\n",
    "print \"The total number of rows in loaded CSV file is:\", df_final_read.count()"
   ]
  },
  {
   "cell_type": "code",
   "execution_count": null,
   "metadata": {},
   "outputs": [],
   "source": []
  }
 ],
 "metadata": {
  "kernelspec": {
   "display_name": "Python 2",
   "language": "python",
   "name": "python2"
  },
  "language_info": {
   "codemirror_mode": {
    "name": "ipython",
    "version": 2
   },
   "file_extension": ".py",
   "mimetype": "text/x-python",
   "name": "python",
   "nbconvert_exporter": "python",
   "pygments_lexer": "ipython2",
   "version": "2.7.16"
  }
 },
 "nbformat": 4,
 "nbformat_minor": 2
}
