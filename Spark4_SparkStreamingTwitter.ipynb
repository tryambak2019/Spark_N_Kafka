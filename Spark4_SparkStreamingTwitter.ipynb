{
 "cells": [
  {
   "cell_type": "markdown",
   "metadata": {},
   "source": [
    "Spark Assignment #4 : Spark Stream on Twitter Data\n",
    "\n",
    "Author: Tryambak Kaushik"
   ]
  },
  {
   "cell_type": "markdown",
   "metadata": {},
   "source": [
    "Q: Complete the Twitter Hashtag example using Twitter Developer Account"
   ]
  },
  {
   "cell_type": "code",
   "execution_count": 1,
   "metadata": {},
   "outputs": [],
   "source": [
    "#!pip install requests_oauthlib"
   ]
  },
  {
   "cell_type": "code",
   "execution_count": 2,
   "metadata": {},
   "outputs": [],
   "source": [
    "import socket\n",
    "import sys\n",
    "import requests\n",
    "import requests_oauthlib\n",
    "import json"
   ]
  },
  {
   "cell_type": "code",
   "execution_count": 3,
   "metadata": {},
   "outputs": [],
   "source": [
    "# Replace the values below with yours\n",
    "ACCESS_TOKEN = '1216192078230757376-zpl6aGno1cD5yHYGiDKWlRgb1jGS'\n",
    "ACCESS_SECRET = 'jMlsXL8NPnjc5qhGcFFtFjGQz6A5wWJeaPdUgIWdVJt'\n",
    "CONSUMER_KEY = 'ShZsbBoOSfRKs8BAKIJY9Up'\n",
    "CONSUMER_SECRET = 'VP8xFzieqpPpRL6ny9oudLwCQNd9XHH7RnThiVjoNk7ROtTw'\n",
    "my_auth = requests_oauthlib.OAuth1(CONSUMER_KEY, CONSUMER_SECRET,ACCESS_TOKEN, ACCESS_SECRET)"
   ]
  },
  {
   "cell_type": "code",
   "execution_count": 4,
   "metadata": {},
   "outputs": [],
   "source": [
    "def get_tweets():\n",
    "    url = 'https://stream.twitter.com/1.1/statuses/filter.json'\n",
    "    query_data = [('language', 'en'), ('locations', '-130,-20,100,50'),('track','#')]\n",
    "    query_url = url + '?' + '&'.join([str(t[0]) + '=' + str(t[1]) for t in query_data])\n",
    "    response = requests.get(query_url, auth=my_auth, stream=True)\n",
    "#     print(query_url, response)\n",
    "    return response"
   ]
  },
  {
   "cell_type": "code",
   "execution_count": 5,
   "metadata": {},
   "outputs": [],
   "source": [
    "def send_tweets_to_spark(http_resp, tcp_connection):\n",
    "    for line in http_resp.iter_lines():\n",
    "        try:\n",
    "            full_tweet = json.loads(line)\n",
    "            tweet_text = full_tweet['text']\n",
    "            print(\"Tweet Text: \" + tweet_text)\n",
    "            print (\"------------------------------------------\")\n",
    "            tcp_connection.send(tweet_text + '\\n')\n",
    "        except:\n",
    "            e = sys.exc_info()[0]\n",
    "            print(\"Error: %s\" % e)"
   ]
  },
  {
   "cell_type": "code",
   "execution_count": 6,
   "metadata": {},
   "outputs": [
    {
     "name": "stdout",
     "output_type": "stream",
     "text": [
      "Tweet Text: swore he was from panama but ok\n",
      "------------------------------------------\n",
      "Tweet Text: @JamesFrancoNews \n",
      "Awesome page turner!💪☝👍👌💯\n",
      "#book #selfimprovement #shortstories #HealthForAll\n",
      "https://t.co/F4MfsZbkDm\n",
      "------------------------------------------\n",
      "Error: <type 'exceptions.UnicodeEncodeError'>\n",
      "Tweet Text: @suevee85 I admire your optimism but he’s not gonna do any of that\n",
      "------------------------------------------\n",
      "Error: <type 'exceptions.UnicodeEncodeError'>\n",
      "Tweet Text: I miss doing stuff. https://t.co/7ByQEJhjVa\n",
      "------------------------------------------\n",
      "Tweet Text: If i drive you around all the time and you refuse to do the same w me in ur car... don’t ask to chill 🥴\n",
      "------------------------------------------\n",
      "Error: <type 'exceptions.UnicodeEncodeError'>\n"
     ]
    }
   ],
   "source": [
    "TCP_IP = \"localhost\"\n",
    "TCP_PORT = 9997\n",
    "conn = None\n",
    "s = socket.socket(socket.AF_INET, socket.SOCK_STREAM)\n",
    "s.bind((TCP_IP, TCP_PORT))\n",
    "s.listen(5)\n",
    "print(\"Waiting for TCP connection...\")\n",
    "conn, addr = s.accept()\n",
    "print(\"Connected... Starting getting tweets.\")\n",
    "resp = get_tweets()\n",
    "send_tweets_to_spark(resp, conn)"
   ]
  },
  {
   "cell_type": "code",
   "execution_count": 7,
   "metadata": {},
   "outputs": [],
   "source": [
    "# socket.close()"
   ]
  },
  {
   "cell_type": "code",
   "execution_count": null,
   "metadata": {},
   "outputs": [],
   "source": []
  },
  {
   "cell_type": "code",
   "execution_count": null,
   "metadata": {},
   "outputs": [],
   "source": []
  },
  {
   "cell_type": "code",
   "execution_count": 1,
   "metadata": {},
   "outputs": [],
   "source": [
    "import findspark"
   ]
  },
  {
   "cell_type": "code",
   "execution_count": 2,
   "metadata": {},
   "outputs": [],
   "source": [
    "findspark.init()"
   ]
  },
  {
   "cell_type": "code",
   "execution_count": 3,
   "metadata": {},
   "outputs": [],
   "source": [
    "# Create a local StreamingContext with two working thread and batch interval of 1 second\n",
    "from pyspark import SparkContext\n",
    "from pyspark.streaming import StreamingContext"
   ]
  },
  {
   "cell_type": "code",
   "execution_count": 4,
   "metadata": {},
   "outputs": [],
   "source": [
    "spc = SparkContext(\"local[2]\", \"LocalWordCount\")\n",
    "stc = StreamingContext(spc, 5)\n",
    "stc.checkpoint(\"checkpoint\")"
   ]
  },
  {
   "cell_type": "code",
   "execution_count": 5,
   "metadata": {},
   "outputs": [],
   "source": [
    "def get_hashtag(line):\n",
    "    hastag_name = line.strip()\n",
    "\n",
    "    if hastag_name == '#hadoop':\n",
    "        output = 'Hadoop'\n",
    "    elif hastag_name == '#spark':\n",
    "        output = 'Spark'\n",
    "    elif hastag_name == '#bigdata':\n",
    "        output = 'Big Data'\n",
    "    else:\n",
    "        output = 'Unknown'\n",
    "\n",
    "    return (output, 1)"
   ]
  },
  {
   "cell_type": "code",
   "execution_count": 6,
   "metadata": {},
   "outputs": [],
   "source": [
    "batch_interval = 1 \n",
    "window_length = 30\n",
    "frequency = 10\n",
    "\n",
    "lines = stc.socketTextStream(\"localhost\", 9997)\n",
    "\n",
    "addFunc = lambda x, y: x + y\n",
    "invAddFunc = lambda x, y: x - y\n",
    "window_counts = lines.map(get_hashtag).reduceByKeyAndWindow(addFunc, invAddFunc,window_length, frequency)"
   ]
  },
  {
   "cell_type": "code",
   "execution_count": 7,
   "metadata": {},
   "outputs": [],
   "source": [
    "window_counts.pprint()"
   ]
  },
  {
   "cell_type": "code",
   "execution_count": 8,
   "metadata": {},
   "outputs": [
    {
     "name": "stdout",
     "output_type": "stream",
     "text": [
      "-------------------------------------------\n",
      "Time: 2020-06-18 20:04:25\n",
      "-------------------------------------------\n",
      "('Unknown', 26)\n",
      "\n",
      "-------------------------------------------\n",
      "Time: 2020-06-18 20:04:35\n",
      "-------------------------------------------\n",
      "('Unknown', 95)\n",
      "\n",
      "-------------------------------------------\n",
      "('Unknown', 195)\n",
      "\n",
      "-------------------------------------------\n",
      "Time: 2020-06-18 20:06:15\n",
      "-------------------------------------------\n",
      "('Unknown', 217)\n",
      "\n"
     ]
    }
   ],
   "source": [
    "stc.start()             # Start the computation\n",
    "stc.awaitTermination()  # Wait for the computation to terminate"
   ]
  },
  {
   "cell_type": "code",
   "execution_count": null,
   "metadata": {},
   "outputs": [],
   "source": []
  }
 ],
 "metadata": {
  "kernelspec": {
   "display_name": "Python 2",
   "language": "python",
   "name": "python2"
  },
  "language_info": {
   "codemirror_mode": {
    "name": "ipython",
    "version": 2
   },
   "file_extension": ".py",
   "mimetype": "text/x-python",
   "name": "python",
   "nbconvert_exporter": "python",
   "pygments_lexer": "ipython2",
   "version": "2.7.16"
  }
 },
 "nbformat": 4,
 "nbformat_minor": 2
}
