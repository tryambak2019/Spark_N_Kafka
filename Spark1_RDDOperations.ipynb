{
 "cells": [
  {
   "cell_type": "markdown",
   "metadata": {},
   "source": [
    "Spark Assignment #1 : RDD Operations\n",
    "\n",
    "Author: Tryambak Kaushik"
   ]
  },
  {
   "cell_type": "code",
   "execution_count": 1,
   "metadata": {},
   "outputs": [],
   "source": [
    "import findspark\n",
    "import datetime\n",
    "findspark.init()\n",
    "from pyspark import SparkContext\n",
    "sc = SparkContext(\"local\", \"first app\")\n",
    "#print(sc)"
   ]
  },
  {
   "cell_type": "code",
   "execution_count": 2,
   "metadata": {},
   "outputs": [],
   "source": [
    "from pyspark.sql import SQLContext\n",
    "from pyspark.sql.functions import *\n",
    "from pyspark.sql.types import DateType, IntegerType\n",
    "import matplotlib\n",
    "import matplotlib.pyplot as plt\n",
    "import pandas as pd\n",
    "\n",
    "sqlContext = SQLContext(sc)"
   ]
  },
  {
   "cell_type": "code",
   "execution_count": 3,
   "metadata": {},
   "outputs": [],
   "source": [
    "MYDIR='/user/hdfs/sparkdata'"
   ]
  },
  {
   "cell_type": "code",
   "execution_count": 4,
   "metadata": {},
   "outputs": [
    {
     "name": "stdout",
     "output_type": "stream",
     "text": [
      "Transfering files from local file system to hadoop file system\n",
      "Found 8 items\n",
      "-rw-r--r--   1 cloudera supergroup      16745 2020-05-31 09:33 /user/hdfs/sparkdata/customers.csv\n",
      "-rw-r--r--   1 cloudera supergroup       2025 2020-05-31 09:33 /user/hdfs/sparkdata/employees.csv\n",
      "-rw-r--r--   1 cloudera supergroup        628 2020-05-31 09:33 /user/hdfs/sparkdata/offices.csv\n",
      "-rw-r--r--   1 cloudera supergroup     109989 2020-05-31 09:33 /user/hdfs/sparkdata/orderdetails.csv\n",
      "-rw-r--r--   1 cloudera supergroup      28018 2020-05-31 09:26 /user/hdfs/sparkdata/orders.csv\n",
      "-rw-r--r--   1 cloudera supergroup      11132 2020-05-31 09:33 /user/hdfs/sparkdata/payments.csv\n",
      "-rw-r--r--   1 cloudera supergroup       3438 2020-05-31 09:33 /user/hdfs/sparkdata/productlines.csv\n",
      "-rw-r--r--   1 cloudera supergroup      31013 2020-05-31 09:34 /user/hdfs/sparkdata/products.csv\n"
     ]
    },
    {
     "name": "stderr",
     "output_type": "stream",
     "text": [
      "put: `/user/hdfs/sparkdata/orders.csv': File exists\n"
     ]
    }
   ],
   "source": [
    "%%bash -s \"$MYDIR\"\n",
    "\n",
    "if ! hdfs dfs -test -e $1 ; then \n",
    "echo \"Creating $1 on HDFS\"\n",
    "hadoop fs -mkdir $1\n",
    "fi\n",
    "\n",
    "hadoop fs -find / -name $1\n",
    "\n",
    "echo \"Transfering files from local file system to hadoop file system\"\n",
    "for file in /var/lib/hadoop-hdfs/datauniversity/spark/orders/*.csv\n",
    "do\n",
    " hadoop fs -put $file $1\n",
    "done\n",
    "\n",
    "hadoop fs -ls $1"
   ]
  },
  {
   "cell_type": "code",
   "execution_count": 5,
   "metadata": {},
   "outputs": [],
   "source": [
    "# Read file for HDFS\n",
    "orders=sc.textFile(\"hdfs://quickstart.cloudera:8020\"+MYDIR+\"/orders.csv\")\n",
    "orderdetails=sc.textFile(\"hdfs://quickstart.cloudera:8020\"+MYDIR+\"/orderdetails.csv\")\n",
    "payments=sc.textFile(\"hdfs://quickstart.cloudera:8020\"+MYDIR+\"/payments.csv\")"
   ]
  },
  {
   "cell_type": "code",
   "execution_count": 6,
   "metadata": {},
   "outputs": [
    {
     "name": "stdout",
     "output_type": "stream",
     "text": [
      "2003-01-06\n"
     ]
    }
   ],
   "source": [
    "ordersrdd=orders.map(lambda line: (line.split('|')[0].strip('\"'), \n",
    "                                   line.split('|')[1].strip('\"'),\n",
    "                                   line.split('|')[2].strip('\"'),\n",
    "                                   line.split('|')[3].strip('\"'), \n",
    "                                   line.split('|')[4].strip('\"'),\n",
    "                                   line.split('|')[5].strip('\"'),\n",
    "                                   line.split('|')[6].strip('\"'))).collect()\n",
    "print(ordersrdd[0][1])"
   ]
  },
  {
   "cell_type": "code",
   "execution_count": 7,
   "metadata": {},
   "outputs": [
    {
     "name": "stdout",
     "output_type": "stream",
     "text": [
      "10100\n"
     ]
    }
   ],
   "source": [
    "orderdetailsrdd=orderdetails.map(lambda line: (line.split('|')[0].strip('\"'), \n",
    "                                               line.split('|')[1].strip('\"'),\n",
    "                                               line.split('|')[2].strip('\"'), \n",
    "                                               line.split('|')[3].strip('\"'),\n",
    "                                               line.split('|')[4].strip('\"'))).collect()\n",
    "print(orderdetailsrdd[0][0])"
   ]
  },
  {
   "cell_type": "code",
   "execution_count": 8,
   "metadata": {},
   "outputs": [
    {
     "name": "stdout",
     "output_type": "stream",
     "text": [
      "103\n"
     ]
    }
   ],
   "source": [
    "paymentsrdd=payments.map(lambda line: (line.split('|')[0].strip('\"'), \n",
    "                                               line.split('|')[1].strip('\"'),\n",
    "                                               line.split('|')[2].strip('\"'), \n",
    "                                               line.split('|')[3].strip('\"'))).collect()\n",
    "print(paymentsrdd[0][0])"
   ]
  },
  {
   "cell_type": "code",
   "execution_count": 9,
   "metadata": {},
   "outputs": [
    {
     "name": "stdout",
     "output_type": "stream",
     "text": [
      "+-----------+----------+------------+-----------+-------+--------------------+--------------+\n",
      "|orderNumber| orderDate|requiredDate|shippedDate| status|            comments|customerNumber|\n",
      "+-----------+----------+------------+-----------+-------+--------------------+--------------+\n",
      "|      10100|2003-01-06|  2003-01-13| 2003-01-10|Shipped|                  \\N|           363|\n",
      "|      10101|2003-01-09|  2003-01-18| 2003-01-11|Shipped|Check on availabi...|           128|\n",
      "+-----------+----------+------------+-----------+-------+--------------------+--------------+\n",
      "only showing top 2 rows\n",
      "\n"
     ]
    }
   ],
   "source": [
    "df_orders=sqlContext.createDataFrame(ordersrdd, schema=['orderNumber', 'orderDate', \n",
    "                                                        'requiredDate', 'shippedDate', \n",
    "                                                        'status', 'comments', \n",
    "                                                        'customerNumber'])\n",
    "df_orders.show(2)"
   ]
  },
  {
   "cell_type": "code",
   "execution_count": 10,
   "metadata": {},
   "outputs": [
    {
     "name": "stdout",
     "output_type": "stream",
     "text": [
      "+-----------+-----------+---------------+---------+---------------+\n",
      "|orderNumber|productCode|quantityOrdered|priceEach|orderLineNumber|\n",
      "+-----------+-----------+---------------+---------+---------------+\n",
      "|      10100|   S18_1749|             30|   136.00|              3|\n",
      "|      10100|   S18_2248|             50|    55.09|              2|\n",
      "+-----------+-----------+---------------+---------+---------------+\n",
      "only showing top 2 rows\n",
      "\n"
     ]
    }
   ],
   "source": [
    "df_orderdetails=sqlContext.createDataFrame(orderdetailsrdd, \n",
    "                                           schema=['orderNumber', 'productCode', \n",
    "                                                   'quantityOrdered', 'priceEach', \n",
    "                                                   'orderLineNumber'])\n",
    "df_orderdetails.show(2)"
   ]
  },
  {
   "cell_type": "code",
   "execution_count": 11,
   "metadata": {},
   "outputs": [
    {
     "name": "stdout",
     "output_type": "stream",
     "text": [
      "+--------------+-----------+-----------+--------+\n",
      "|customerNumber|checkNumber|paymentDate|  amount|\n",
      "+--------------+-----------+-----------+--------+\n",
      "|           103|   HQ336336| 2004-10-19| 6066.78|\n",
      "|           103|   JM555205| 2003-06-05|14571.44|\n",
      "+--------------+-----------+-----------+--------+\n",
      "only showing top 2 rows\n",
      "\n"
     ]
    }
   ],
   "source": [
    "df_payments=sqlContext.createDataFrame(paymentsrdd, \n",
    "                                           schema=['customerNumber', 'checkNumber', \n",
    "                                                   'paymentDate', 'amount'])\n",
    "df_payments.show(2)"
   ]
  },
  {
   "cell_type": "code",
   "execution_count": 12,
   "metadata": {},
   "outputs": [
    {
     "name": "stdout",
     "output_type": "stream",
     "text": [
      "+-----------+-----------+---------------+---------+---------------+----------+------------+-----------+-------+--------+--------------+\n",
      "|orderNumber|productCode|quantityOrdered|priceEach|orderLineNumber| orderDate|requiredDate|shippedDate| status|comments|customerNumber|\n",
      "+-----------+-----------+---------------+---------+---------------+----------+------------+-----------+-------+--------+--------------+\n",
      "|      10153|   S12_1108|             20|   201.57|             11|2003-09-28|  2003-10-05| 2003-10-03|Shipped|      \\N|           141|\n",
      "|      10153|   S12_3148|             42|   128.42|             12|2003-09-28|  2003-10-05| 2003-10-03|Shipped|      \\N|           141|\n",
      "+-----------+-----------+---------------+---------+---------------+----------+------------+-----------+-------+--------+--------------+\n",
      "only showing top 2 rows\n",
      "\n"
     ]
    }
   ],
   "source": [
    "# Join Dataframes orders and orderdetails\n",
    "df_join_orders = df_orderdetails.join(df_orders, on='orderNumber')\n",
    "df_join_orders.show(2)"
   ]
  },
  {
   "cell_type": "code",
   "execution_count": 13,
   "metadata": {},
   "outputs": [
    {
     "name": "stdout",
     "output_type": "stream",
     "text": [
      "[('orderNumber', 'string'), ('productCode', 'string'), ('quantityOrdered', 'string'), ('priceEach', 'string'), ('orderLineNumber', 'string'), ('orderDate', 'string'), ('requiredDate', 'string'), ('shippedDate', 'string'), ('status', 'string'), ('comments', 'string'), ('customerNumber', 'string')]\n",
      "root\n",
      " |-- orderNumber: string (nullable = true)\n",
      " |-- productCode: string (nullable = true)\n",
      " |-- quantityOrdered: string (nullable = true)\n",
      " |-- priceEach: string (nullable = true)\n",
      " |-- orderLineNumber: string (nullable = true)\n",
      " |-- orderDate: string (nullable = true)\n",
      " |-- requiredDate: string (nullable = true)\n",
      " |-- shippedDate: string (nullable = true)\n",
      " |-- status: string (nullable = true)\n",
      " |-- comments: string (nullable = true)\n",
      " |-- customerNumber: string (nullable = true)\n",
      "\n",
      "None\n"
     ]
    }
   ],
   "source": [
    "print(df_join_orders.dtypes)\n",
    "print(df_join_orders.printSchema())"
   ]
  },
  {
   "cell_type": "code",
   "execution_count": 14,
   "metadata": {},
   "outputs": [
    {
     "name": "stdout",
     "output_type": "stream",
     "text": [
      "+--------------+-----------+-----------+--------+-----------+----------+------------+-----------+-------+--------------------+\n",
      "|customerNumber|checkNumber|paymentDate|  amount|orderNumber| orderDate|requiredDate|shippedDate| status|            comments|\n",
      "+--------------+-----------+-----------+--------+-----------+----------+------------+-----------+-------+--------------------+\n",
      "|           286|   DR578578| 2004-10-28|47411.33|      10285|2004-08-27|  2004-09-04| 2004-08-31|Shipped|                  \\N|\n",
      "|           286|   DR578578| 2004-10-28|47411.33|      10305|2004-10-13|  2004-10-22| 2004-10-15|Shipped|Check on availabi...|\n",
      "+--------------+-----------+-----------+--------+-----------+----------+------------+-----------+-------+--------------------+\n",
      "only showing top 2 rows\n",
      "\n"
     ]
    }
   ],
   "source": [
    "# Join Dataframes orders and payments\n",
    "df_join_payments = df_payments.join(df_orders, on='customerNumber')\n",
    "df_join_payments.show(2)"
   ]
  },
  {
   "cell_type": "code",
   "execution_count": 15,
   "metadata": {},
   "outputs": [
    {
     "name": "stdout",
     "output_type": "stream",
     "text": [
      "1. Find customer(s) who have ordered more that 10 times\n",
      "\n",
      "The customers who have ordered more than 10 items:\n",
      "+--------------+------------------+\n",
      "|customerNumber|count(productCode)|\n",
      "+--------------+------------------+\n",
      "|           173|                11|\n",
      "|           489|                12|\n",
      "|           475|                13|\n",
      "|           344|                13|\n",
      "|           347|                14|\n",
      "+--------------+------------------+\n",
      "only showing top 5 rows\n",
      "\n",
      "None\n",
      "92 customers have ordered more than 10 items\n"
     ]
    }
   ],
   "source": [
    "#1. Find customer(s) who have ordered more that 10 times\n",
    "print(\"1. Find customer(s) who have ordered more that 10 times\\n\")\n",
    "print(\"The customers who have ordered more than 10 items:\")\n",
    "df_group=df_join_orders.groupBy('customerNumber').agg(\n",
    "    {'productCode': 'count'})\n",
    "df_group=df_group.filter(df_group['count(productCode)']>10).orderBy('count(productCode)')\n",
    "print(df_group.show(5))\n",
    "print(\"\".join([str(df_group.toPandas().count()[0]), \" customers have ordered more than 10 items\"]))"
   ]
  },
  {
   "cell_type": "code",
   "execution_count": 16,
   "metadata": {},
   "outputs": [
    {
     "name": "stdout",
     "output_type": "stream",
     "text": [
      "2. Find the orderDate of the 'In Process' order for customerNumber 124\n",
      "\n",
      "+--------------+----------+----------+\n",
      "|customerNumber| orderDate|    status|\n",
      "+--------------+----------+----------+\n",
      "|           124|2005-05-29|In Process|\n",
      "|           124|2005-05-29|In Process|\n",
      "+--------------+----------+----------+\n",
      "\n",
      "None\n"
     ]
    }
   ],
   "source": [
    "#2. Find the orderDate of the 'In Process' order for customerNumber 124\n",
    "print(\"2. Find the orderDate of the 'In Process' order for customerNumber 124\\n\")\n",
    "df_filter=df_join_orders.filter(df_join_orders.status == 'In Process').filter(df_join_orders.customerNumber==124)\n",
    "\n",
    "print(df_filter.select('customerNumber', 'orderDate', 'status').show())"
   ]
  },
  {
   "cell_type": "code",
   "execution_count": 17,
   "metadata": {},
   "outputs": [
    {
     "name": "stdout",
     "output_type": "stream",
     "text": [
      "3. What is the total payment made (all orders) by customerNumber 124?\n",
      "\n",
      "+--------------+---------------+---------+\n",
      "|customerNumber|quantityOrdered|priceEach|\n",
      "+--------------+---------------+---------+\n",
      "|           124|             34|   166.24|\n",
      "|           124|             37|   145.04|\n",
      "|           124|             34|   143.61|\n",
      "|           124|             32|   103.10|\n",
      "|           124|             25|   160.46|\n",
      "+--------------+---------------+---------+\n",
      "only showing top 5 rows\n",
      "\n",
      "None\n",
      "The total payment made by customerNumber 124 = 591827.34\n"
     ]
    }
   ],
   "source": [
    "#3. What is the total payment made (all orders) by customerNumber 124?\n",
    "print('3. What is the total payment made (all orders) by customerNumber 124?\\n')\n",
    "\n",
    "df_filter=df_join_orders.filter(df_join_orders.customerNumber==124)\n",
    "print(df_filter.select(\"customerNumber\", \"quantityOrdered\", \"priceEach\").show(5))\n",
    "df_filter=df_join_orders.filter(df_join_orders.customerNumber==124).withColumn(\n",
    "    \"result\", round(col(\"quantityOrdered\") * col(\"priceEach\"),2) ).groupBy().sum(\"result\").collect()[0][\"sum(result)\"]\n",
    "print(\"\".join((\"The total payment made by customerNumber 124 = \", str(df_filter))))"
   ]
  },
  {
   "cell_type": "code",
   "execution_count": 18,
   "metadata": {},
   "outputs": [
    {
     "name": "stdout",
     "output_type": "stream",
     "text": [
      "4. Which customer has the highest amount for one order?\n",
      "\n",
      "+--------------+-----------+--------------------+\n",
      "|customerNumber|productCode|sum(quantityOrdered)|\n",
      "+--------------+-----------+--------------------+\n",
      "|           141|   S18_3232|               308.0|\n",
      "+--------------+-----------+--------------------+\n",
      "\n",
      "None\n",
      "141 has the highest amount (308.0) for one order\n"
     ]
    }
   ],
   "source": [
    "#4. Which customer has the highest amount for one order?\n",
    "print(\"4. Which customer has the highest amount for one order?\\n\")\n",
    "df_filter=df_join_orders.withColumn(\"quantityOrdered\",col(\n",
    "    \"quantityOrdered\").cast(\"float\")).groupby('customerNumber','productCode').sum(\"quantityOrdered\")\n",
    "df_filter=df_filter.sort(desc(\"sum(quantityOrdered)\")).limit(1)\n",
    "print(df_filter.show())\n",
    "print( \"\".join([df_filter.select(\"customerNumber\").rdd.flatMap(\n",
    "    lambda x: x).collect()[0], \" has the highest amount (\", str(\n",
    "    df_filter.toPandas()['sum(quantityOrdered)'][0]), \") for one order\"]))"
   ]
  },
  {
   "cell_type": "code",
   "execution_count": 19,
   "metadata": {},
   "outputs": [
    {
     "name": "stdout",
     "output_type": "stream",
     "text": [
      "5. Create a list of - customerNumber, orderDate, paymentDate of orders places in 2013\n",
      "\n",
      "The output list is:\n",
      "+--------------+---------+-----------+\n",
      "|customerNumber|orderDate|paymentDate|\n",
      "+--------------+---------+-----------+\n",
      "+--------------+---------+-----------+\n",
      "\n",
      "None\n",
      "\n",
      "All payment data in descending order\n",
      "+--------------+----------+-----------+\n",
      "|customerNumber| orderDate|paymentDate|\n",
      "+--------------+----------+-----------+\n",
      "|           353|2004-12-15| 2005-06-09|\n",
      "|           353|2004-11-24| 2005-06-09|\n",
      "|           353|2003-07-10| 2005-06-09|\n",
      "|           353|2003-05-07| 2005-06-09|\n",
      "|           353|2005-03-30| 2005-06-09|\n",
      "+--------------+----------+-----------+\n",
      "only showing top 5 rows\n",
      "\n",
      "No paymentDate of orders was placed in 2013\n"
     ]
    }
   ],
   "source": [
    "# 5. Create a list of - customerNumber, orderDate, paymentDate of orders places in 2013\n",
    "print(\"5. Create a list of - customerNumber, orderDate, paymentDate of orders places in 2013\\n\")\n",
    "print(\"The output list is:\")\n",
    "df_filter=df_join_payments.filter(year(\"paymentDate\")==2013).select(\"customerNumber\", \"orderDate\", \"paymentDate\")\n",
    "print(df_filter.show())\n",
    "\n",
    "print(\"\\nAll payment data in descending order\")\n",
    "df_join_payments.select(\"customerNumber\", \"orderDate\", \"paymentDate\").sort(desc(\"paymentDate\")).show(5)\n",
    "\n",
    "print(\"No paymentDate of orders was placed in 2013\")"
   ]
  },
  {
   "cell_type": "code",
   "execution_count": 20,
   "metadata": {},
   "outputs": [
    {
     "name": "stdout",
     "output_type": "stream",
     "text": [
      "5. Create a list of - customerNumber, orderDate, paymentDate of orders places in 2013\n",
      "\n",
      "The output list is (Alternate attempt-String Comparison):\n",
      "+--------------+---------+-----------+\n",
      "|customerNumber|orderDate|paymentDate|\n",
      "+--------------+---------+-----------+\n",
      "+--------------+---------+-----------+\n",
      "\n",
      "None\n",
      "\n",
      "All payment data in descending order\n",
      "+--------------+----------+-----------+\n",
      "|customerNumber| orderDate|paymentDate|\n",
      "+--------------+----------+-----------+\n",
      "|           353|2004-12-15| 2005-06-09|\n",
      "|           353|2004-11-24| 2005-06-09|\n",
      "|           353|2003-07-10| 2005-06-09|\n",
      "|           353|2003-05-07| 2005-06-09|\n",
      "|           353|2005-03-30| 2005-06-09|\n",
      "+--------------+----------+-----------+\n",
      "only showing top 5 rows\n",
      "\n",
      "No paymentDate of orders was placed in 2013\n"
     ]
    }
   ],
   "source": [
    "# 5. Create a list of - customerNumber, orderDate, paymentDate of orders places in 2013\n",
    "print(\"5. Create a list of - customerNumber, orderDate, paymentDate of orders places in 2013\\n\")\n",
    "print(\"The output list is (Alternate attempt-String Comparison):\")\n",
    "df_filter=df_join_payments.filter(df_join_payments.paymentDate.like('2013%')).select(\"customerNumber\", \"orderDate\", \"paymentDate\")\n",
    "print(df_filter.show())\n",
    "\n",
    "print(\"\\nAll payment data in descending order\")\n",
    "df_join_payments.select(\"customerNumber\", \"orderDate\", \"paymentDate\").sort(desc(\"paymentDate\")).show(5)\n",
    "\n",
    "print(\"No paymentDate of orders was placed in 2013\")"
   ]
  },
  {
   "cell_type": "code",
   "execution_count": 21,
   "metadata": {},
   "outputs": [
    {
     "name": "stdout",
     "output_type": "stream",
     "text": [
      "6. Find totals by customers for the top 10 customer\n",
      "\n",
      "The top 10 customers by totals are:\n",
      "+--------------+---------+\n",
      "|customerNumber|      res|\n",
      "+--------------+---------+\n",
      "|           141|820689.54|\n",
      "|           124|591827.34|\n",
      "|           114|180585.07|\n",
      "|           151|177913.95|\n",
      "|           119|158573.12|\n",
      "|           148|156251.03|\n",
      "|           323|154622.08|\n",
      "|           131|149085.15|\n",
      "|           187|148410.09|\n",
      "|           450|143536.27|\n",
      "+--------------+---------+\n",
      "\n",
      "None\n"
     ]
    }
   ],
   "source": [
    "# 6. Find totals by customers for the top 10 customer\n",
    "print(\"6. Find totals by customers for the top 10 customer\\n\")\n",
    "print(\"The top 10 customers by totals are:\")\n",
    "df_filter=df_join_orders.withColumn('result', col(\"quantityOrdered\") * col(\"priceEach\")).groupby(\n",
    "    'customerNumber').agg(round(sum('result'),2).alias('res')).sort(desc(\"res\")).limit(10)\n",
    "print(df_filter.show())"
   ]
  },
  {
   "cell_type": "code",
   "execution_count": 22,
   "metadata": {},
   "outputs": [
    {
     "data": {
      "text/plain": [
       "<matplotlib.axes._subplots.AxesSubplot at 0x7f63de453a50>"
      ]
     },
     "execution_count": 22,
     "metadata": {},
     "output_type": "execute_result"
    },
    {
     "data": {
      "image/png": "[encoded data removed]",
      "text/plain": [
       "<Figure size 432x288 with 1 Axes>"
      ]
     },
     "metadata": {
      "needs_background": "light"
     },
     "output_type": "display_data"
    }
   ],
   "source": [
    "# 7. Plot results on a graph\n",
    "df_filter_pandas = df_filter.toPandas()\n",
    "df_filter_pandas.plot(kind='bar',x='customerNumber',y='res',colormap='winter_r')"
   ]
  },
  {
   "cell_type": "code",
   "execution_count": null,
   "metadata": {},
   "outputs": [],
   "source": []
  }
 ],
 "metadata": {
  "kernelspec": {
   "display_name": "Python 2",
   "language": "python",
   "name": "python2"
  },
  "language_info": {
   "codemirror_mode": {
    "name": "ipython",
    "version": 2
   },
   "file_extension": ".py",
   "mimetype": "text/x-python",
   "name": "python",
   "nbconvert_exporter": "python",
   "pygments_lexer": "ipython2",
   "version": "2.7.16"
  }
 },
 "nbformat": 4,
 "nbformat_minor": 2
}
