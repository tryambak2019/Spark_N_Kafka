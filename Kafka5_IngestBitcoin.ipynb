{
 "cells": [
  {
   "cell_type": "code",
   "execution_count": 1,
   "metadata": {},
   "outputs": [],
   "source": [
    "import socket\n",
    "import sys\n",
    "import requests as req\n",
    "import requests_oauthlib\n",
    "import json\n",
    "import time"
   ]
  },
  {
   "cell_type": "code",
   "execution_count": 2,
   "metadata": {},
   "outputs": [],
   "source": [
    "ticker_url=\"https://blockchain.info/ticker\"\n",
    "sleep_time=2"
   ]
  },
  {
   "cell_type": "code",
   "execution_count": 3,
   "metadata": {},
   "outputs": [
    {
     "name": "stdout",
     "output_type": "stream",
     "text": [
      "Waiting for TCP connection...\n",
      "Connected to client at  ('127.0.0.1', 45231)\n",
      "{u'sell': 9421.33, u'last': 9421.33, u'symbol': u'$', u'buy': 9421.33, u'15m': 9421.33}\n",
      "{u'sell': 9421.33, u'last': 9421.33, u'symbol': u'$', u'buy': 9421.33, u'15m': 9421.33}\n",
      "{u'sell': 9421.33, u'last': 9421.33, u'symbol': u'$', u'buy': 9421.33, u'15m': 9421.33}\n",
      "{u'sell': 9421.33, u'last': 9421.33, u'symbol': u'$', u'buy': 9421.33, u'15m': 9421.33}\n",
      "{u'sell': 9421.33, u'last': 9421.33, u'symbol': u'$', u'buy': 9421.33, u'15m': 9421.33}\n",
      "{u'sell': 9419.02, u'last': 9419.02, u'symbol': u'$', u'buy': 9419.02, u'15m': 9419.02}\n",
      "{u'sell': 9419.02, u'last': 9419.02, u'symbol': u'$', u'buy': 9419.02, u'15m': 9419.02}\n",
      "{u'sell': 9419.02, u'last': 9419.02, u'symbol': u'$', u'buy': 9419.02, u'15m': 9419.02}\n",
      "{u'sell': 9419.02, u'last': 9419.02, u'symbol': u'$', u'buy': 9419.02, u'15m': 9419.02}\n",
      "{u'sell': 9419.02, u'last': 9419.02, u'symbol': u'$', u'buy': 9419.02, u'15m': 9419.02}\n",
      "{u'sell': 9419.02, u'last': 9419.02, u'symbol': u'$', u'buy': 9419.02, u'15m': 9419.02}\n",
      "{u'sell': 9419.02, u'last': 9419.02, u'symbol': u'$', u'buy': 9419.02, u'15m': 9419.02}\n",
      "{u'sell': 9419.02, u'last': 9419.02, u'symbol': u'$', u'buy': 9419.02, u'15m': 9419.02}\n",
      "{u'sell': 9419.02, u'last': 9419.02, u'symbol': u'$', u'buy': 9419.02, u'15m': 9419.02}\n",
      "{u'sell': 9419.02, u'last': 9419.02, u'symbol': u'$', u'buy': 9419.02, u'15m': 9419.02}\n",
      "{u'sell': 9419.02, u'last': 9419.02, u'symbol': u'$', u'buy': 9419.02, u'15m': 9419.02}\n",
      "{u'sell': 9419.02, u'last': 9419.02, u'symbol': u'$', u'buy': 9419.02, u'15m': 9419.02}\n",
      "{u'sell': 9419.02, u'last': 9419.02, u'symbol': u'$', u'buy': 9419.02, u'15m': 9419.02}\n",
      "{u'sell': 9419.02, u'last': 9419.02, u'symbol': u'$', u'buy': 9419.02, u'15m': 9419.02}\n",
      "{u'sell': 9419.02, u'last': 9419.02, u'symbol': u'$', u'buy': 9419.02, u'15m': 9419.02}\n",
      "{u'sell': 9418.29, u'last': 9418.29, u'symbol': u'$', u'buy': 9418.29, u'15m': 9418.29}\n",
      "{u'sell': 9418.29, u'last': 9418.29, u'symbol': u'$', u'buy': 9418.29, u'15m': 9418.29}\n",
      "{u'sell': 9418.29, u'last': 9418.29, u'symbol': u'$', u'buy': 9418.29, u'15m': 9418.29}\n",
      "{u'sell': 9418.29, u'last': 9418.29, u'symbol': u'$', u'buy': 9418.29, u'15m': 9418.29}\n",
      "{u'sell': 9418.29, u'last': 9418.29, u'symbol': u'$', u'buy': 9418.29, u'15m': 9418.29}\n",
      "{u'sell': 9418.29, u'last': 9418.29, u'symbol': u'$', u'buy': 9418.29, u'15m': 9418.29}\n",
      "{u'sell': 9418.29, u'last': 9418.29, u'symbol': u'$', u'buy': 9418.29, u'15m': 9418.29}\n",
      "{u'sell': 9418.29, u'last': 9418.29, u'symbol': u'$', u'buy': 9418.29, u'15m': 9418.29}\n",
      "{u'sell': 9418.29, u'last': 9418.29, u'symbol': u'$', u'buy': 9418.29, u'15m': 9418.29}\n",
      "{u'sell': 9418.29, u'last': 9418.29, u'symbol': u'$', u'buy': 9418.29, u'15m': 9418.29}\n",
      "{u'sell': 9418.29, u'last': 9418.29, u'symbol': u'$', u'buy': 9418.29, u'15m': 9418.29}\n",
      "{u'sell': 9418.29, u'last': 9418.29, u'symbol': u'$', u'buy': 9418.29, u'15m': 9418.29}\n"
     ]
    }
   ],
   "source": [
    "TCP_IP = \"localhost\"\n",
    "TCP_PORT = 9997\n",
    "conn = None\n",
    "s = socket.socket(socket.AF_INET, socket.SOCK_STREAM)\n",
    "s.bind((TCP_IP, TCP_PORT))\n",
    "s.listen(1)\n",
    "print(\"Waiting for TCP connection...\")\n",
    "conn, addr = s.accept()\n",
    "print \"\\nConnected to client at \", addr,\"\\n\"\n",
    "value_serializer=lambda x: json.dumps(x).encode('utf-8')\n",
    "\n",
    "while (True):\n",
    "    time.sleep(sleep_time)\n",
    "    try:\n",
    "        resp = req.get(ticker_url)\n",
    "        json_data = json.loads(resp.text)\n",
    "        print('USD Data', json_data['USD'])\n",
    "        conn.send(value_serializer(json_data) + \"\\n\")\n",
    "    except:\n",
    "        e = sys.exc_info()[0]\n",
    "        print(\"Error4: %s\" % e)"
   ]
  },
  {
   "cell_type": "code",
   "execution_count": null,
   "metadata": {},
   "outputs": [],
   "source": []
  }
 ],
 "metadata": {
  "kernelspec": {
   "display_name": "Python 2",
   "language": "python",
   "name": "python2"
  },
  "language_info": {
   "codemirror_mode": {
    "name": "ipython",
    "version": 2
   },
   "file_extension": ".py",
   "mimetype": "text/x-python",
   "name": "python",
   "nbconvert_exporter": "python",
   "pygments_lexer": "ipython2",
   "version": "2.7.16"
  }
 },
 "nbformat": 4,
 "nbformat_minor": 2
}
